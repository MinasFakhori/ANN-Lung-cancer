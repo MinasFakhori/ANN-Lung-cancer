{
 "cells": [
  {
   "cell_type": "markdown",
   "metadata": {
    "id": "r4kUnpH6TfO9"
   },
   "source": [
    "# CI512 Intelligent Systems assignment\n",
    "## This project is a neural network using the pytorch framework to predict how severe the cancer is in cancer patients \n",
    "\n",
    "### By Minas Fakhori\n",
    "\n",
    "This was originally made on google colab: https://colab.research.google.com/drive/11wRQMr5h-X6iQvY8jELLV4t5XSsaTFcv?usp=share_link\n",
    "\n"
   ]
  },
  {
   "cell_type": "markdown",
   "metadata": {
    "id": "486eXM5XUeNN"
   },
   "source": [
    "#### 1. Importing all the modules I  will need"
   ]
  },
  {
   "cell_type": "code",
   "execution_count": 1,
   "metadata": {},
   "outputs": [
    {
     "name": "stdout",
     "output_type": "stream",
     "text": [
      "Requirement already satisfied: torch in c:\\users\\minas\\anaconda3\\lib\\site-packages (1.13.1)\n",
      "Requirement already satisfied: typing-extensions in c:\\users\\minas\\anaconda3\\lib\\site-packages (from torch) (4.3.0)\n",
      "Requirement already satisfied: matplotlib in c:\\users\\minas\\anaconda3\\lib\\site-packages (3.5.2)\n",
      "Requirement already satisfied: numpy>=1.17 in c:\\users\\minas\\anaconda3\\lib\\site-packages (from matplotlib) (1.21.5)\n",
      "Requirement already satisfied: fonttools>=4.22.0 in c:\\users\\minas\\anaconda3\\lib\\site-packages (from matplotlib) (4.25.0)\n",
      "Requirement already satisfied: kiwisolver>=1.0.1 in c:\\users\\minas\\anaconda3\\lib\\site-packages (from matplotlib) (1.4.2)\n",
      "Requirement already satisfied: packaging>=20.0 in c:\\users\\minas\\anaconda3\\lib\\site-packages (from matplotlib) (21.3)\n",
      "Requirement already satisfied: pillow>=6.2.0 in c:\\users\\minas\\anaconda3\\lib\\site-packages (from matplotlib) (9.2.0)\n",
      "Requirement already satisfied: pyparsing>=2.2.1 in c:\\users\\minas\\anaconda3\\lib\\site-packages (from matplotlib) (3.0.9)\n",
      "Requirement already satisfied: python-dateutil>=2.7 in c:\\users\\minas\\anaconda3\\lib\\site-packages (from matplotlib) (2.8.2)\n",
      "Requirement already satisfied: cycler>=0.10 in c:\\users\\minas\\anaconda3\\lib\\site-packages (from matplotlib) (0.11.0)\n",
      "Requirement already satisfied: six>=1.5 in c:\\users\\minas\\anaconda3\\lib\\site-packages (from python-dateutil>=2.7->matplotlib) (1.16.0)\n",
      "Requirement already satisfied: numpy in c:\\users\\minas\\anaconda3\\lib\\site-packages (1.21.5)\n",
      "Requirement already satisfied: pandas in c:\\users\\minas\\anaconda3\\lib\\site-packages (1.4.4)\n",
      "Requirement already satisfied: python-dateutil>=2.8.1 in c:\\users\\minas\\anaconda3\\lib\\site-packages (from pandas) (2.8.2)\n",
      "Requirement already satisfied: numpy>=1.18.5 in c:\\users\\minas\\anaconda3\\lib\\site-packages (from pandas) (1.21.5)\n",
      "Requirement already satisfied: pytz>=2020.1 in c:\\users\\minas\\anaconda3\\lib\\site-packages (from pandas) (2022.1)\n",
      "Requirement already satisfied: six>=1.5 in c:\\users\\minas\\anaconda3\\lib\\site-packages (from python-dateutil>=2.8.1->pandas) (1.16.0)\n",
      "Requirement already satisfied: sklearn in c:\\users\\minas\\anaconda3\\lib\\site-packages (0.0.post1)\n"
     ]
    }
   ],
   "source": [
    "!pip3 install torch\n",
    "!pip3 install matplotlib\n",
    "!pip3 install numpy\n",
    "!pip3 install pandas\n",
    "!pip3 install sklearn"
   ]
  },
  {
   "cell_type": "code",
   "execution_count": 2,
   "metadata": {
    "executionInfo": {
     "elapsed": 447,
     "status": "ok",
     "timestamp": 1671642730206,
     "user": {
      "displayName": "Minas 0",
      "userId": "05439225057304152856"
     },
     "user_tz": 0
    },
    "id": "aDNzaYEzNr35"
   },
   "outputs": [],
   "source": [
    "import torch \n",
    "import torch.nn as nn #neural net\n",
    "import matplotlib.pyplot as plt #plot graphs\n",
    "import numpy as np #computation for the data\n",
    "import pandas as pd #To import data from a csv file\n",
    "from sklearn.model_selection import train_test_split #To split the data to avoid overfitting"
   ]
  },
  {
   "cell_type": "markdown",
   "metadata": {
    "id": "eqn6MP0qZmdm"
   },
   "source": [
    "#### 2. Clean the data"
   ]
  },
  {
   "cell_type": "code",
   "execution_count": 3,
   "metadata": {
    "colab": {
     "base_uri": "https://localhost:8080/"
    },
    "executionInfo": {
     "elapsed": 10,
     "status": "ok",
     "timestamp": 1671642730207,
     "user": {
      "displayName": "Minas 0",
      "userId": "05439225057304152856"
     },
     "user_tz": 0
    },
    "id": "iLbNCu1qOHq2",
    "outputId": "053d3383-0b0d-4c0a-d4ab-40632f397c49"
   },
   "outputs": [
    {
     "name": "stderr",
     "output_type": "stream",
     "text": [
      "C:\\Users\\minas\\AppData\\Local\\Temp\\ipykernel_12844\\1687771389.py:10: SettingWithCopyWarning: \n",
      "A value is trying to be set on a copy of a slice from a DataFrame\n",
      "\n",
      "See the caveats in the documentation: https://pandas.pydata.org/pandas-docs/stable/user_guide/indexing.html#returning-a-view-versus-a-copy\n",
      "  df['Level'][i] = 0\n",
      "C:\\Users\\minas\\AppData\\Local\\Temp\\ipykernel_12844\\1687771389.py:12: SettingWithCopyWarning: \n",
      "A value is trying to be set on a copy of a slice from a DataFrame\n",
      "\n",
      "See the caveats in the documentation: https://pandas.pydata.org/pandas-docs/stable/user_guide/indexing.html#returning-a-view-versus-a-copy\n",
      "  df['Level'][i] = 1\n",
      "C:\\Users\\minas\\AppData\\Local\\Temp\\ipykernel_12844\\1687771389.py:14: SettingWithCopyWarning: \n",
      "A value is trying to be set on a copy of a slice from a DataFrame\n",
      "\n",
      "See the caveats in the documentation: https://pandas.pydata.org/pandas-docs/stable/user_guide/indexing.html#returning-a-view-versus-a-copy\n",
      "  df['Level'][i] = 2\n"
     ]
    }
   ],
   "source": [
    "df = pd.read_csv(\"cancer patient data sets.csv\") #Gets the data\n",
    "\n",
    " #The index and the Patient Id needs to be removed because they have nothing to\n",
    " #do with predicting cancer\n",
    "df = df.drop([\"index\", \"Patient Id\"], axis = 1) #axis 1 says columns\n",
    "\n",
    "#This changes text to numbers so the ANN can work with it\n",
    "for i in range(len(df)):\n",
    "  if df.get(\"Level\")[i] == 'Low':\n",
    "    df['Level'][i] = 0\n",
    "  elif df.get(\"Level\")[i] == 'Medium':\n",
    "    df['Level'][i] = 1\n",
    "  elif df.get(\"Level\")[i] == 'High':\n",
    "    df['Level'][i] = 2"
   ]
  },
  {
   "cell_type": "markdown",
   "metadata": {
    "id": "mAkugMg7Z1Q9"
   },
   "source": [
    "#### 3. Convert the data to tensors"
   ]
  },
  {
   "cell_type": "code",
   "execution_count": 4,
   "metadata": {
    "executionInfo": {
     "elapsed": 6,
     "status": "ok",
     "timestamp": 1671642730208,
     "user": {
      "displayName": "Minas 0",
      "userId": "05439225057304152856"
     },
     "user_tz": 0
    },
    "id": "x1vvaB6LOJtM"
   },
   "outputs": [],
   "source": [
    "data = df.drop(\"Level\" , axis = 1).values #To get the data to train the model \n",
    "target = df.get(\"Level\") #This gets the target(y) \n",
    "\n",
    "#Converts it to a tensor\n",
    "data_tensor = torch.tensor( data)\n",
    "target_tensor = torch.tensor(target)\n",
    "\n",
    "\n",
    "#To be able to work with nn in pytorch it must have the same data type which is float32\n",
    "data_tensor = data_tensor.to(torch.float32)\n",
    "target_tensor = target_tensor.to(torch.float32)\n"
   ]
  },
  {
   "cell_type": "markdown",
   "metadata": {
    "id": "RDkN2-mgaLYn"
   },
   "source": [
    "#### 4. Cross Validation"
   ]
  },
  {
   "cell_type": "code",
   "execution_count": 5,
   "metadata": {
    "executionInfo": {
     "elapsed": 288,
     "status": "ok",
     "timestamp": 1671642730491,
     "user": {
      "displayName": "Minas 0",
      "userId": "05439225057304152856"
     },
     "user_tz": 0
    },
    "id": "tHUXZdNkGBil"
   },
   "outputs": [],
   "source": [
    "#When you split the data you have a random position of each target, the index of the target/output will also need to match that change \n",
    "#so to solve this, the object TensorDataset takes  2  paramiters, data and the target returns them as tuple. \n",
    "\n",
    "d = torch.utils.data.TensorDataset(data_tensor, target_tensor)\n",
    "\n",
    "#shuffle true mixes the data\n",
    "dl = torch.utils.data.DataLoader(d , shuffle=True)"
   ]
  },
  {
   "cell_type": "code",
   "execution_count": 6,
   "metadata": {
    "colab": {
     "base_uri": "https://localhost:8080/"
    },
    "executionInfo": {
     "elapsed": 15,
     "status": "ok",
     "timestamp": 1671642730492,
     "user": {
      "displayName": "Minas 0",
      "userId": "05439225057304152856"
     },
     "user_tz": 0
    },
    "id": "YPaEZ64gLfvX",
    "outputId": "ff29087a-c94d-4886-e0c7-a84082a6cde8"
   },
   "outputs": [
    {
     "name": "stdout",
     "output_type": "stream",
     "text": [
      "torch.Size([750, 23])\n"
     ]
    }
   ],
   "source": [
    "#The method train_test_split in sklearn takes in the data, target and how much of your data do you want to be for testing\n",
    "\n",
    "train_data,test_data , train_target, test_target = train_test_split(d.tensors[0] , d.tensors[1], test_size = 0.25)\n",
    "\n",
    "#Out of 1000 data sets 750 is being used to train the model\n",
    "print(train_data.size())"
   ]
  },
  {
   "cell_type": "markdown",
   "metadata": {
    "id": "7s8v1F-SbWZU"
   },
   "source": [
    "#### 5. Making the ANN"
   ]
  },
  {
   "cell_type": "code",
   "execution_count": 7,
   "metadata": {
    "executionInfo": {
     "elapsed": 13,
     "status": "ok",
     "timestamp": 1671642730492,
     "user": {
      "displayName": "Minas 0",
      "userId": "05439225057304152856"
     },
     "user_tz": 0
    },
    "id": "jJn3lv5bO4Lh"
   },
   "outputs": [],
   "source": [
    "def makeANN(unit1 , unit2): \n",
    "  #This makes the ANN\n",
    "  ann = nn.Sequential(\n",
    "    #Each linear is a layer, the first paramiter is the input and the second on is the output\n",
    "    #The output is the amout of unit\n",
    "    #The input must match the data passed in \n",
    "    nn.Linear( 23 , unit1), \n",
    "    nn.ReLU(), #Activation/non linear function, coverts the linear output to a non linear input\n",
    "    nn.Linear(unit1, unit2),\n",
    "    nn.ReLU(), \n",
    "    nn.Linear(unit2, 3) #The output is 3 bacuse we want three values out\n",
    "    #Softmax automaticlly implemented in the loss function\n",
    "  )\n",
    "  \n",
    "  # loss function calculates the diffrence between the target output and the output the ANN gave  \n",
    "  loss_function = nn.CrossEntropyLoss()\n",
    "\n",
    "  #This implments stochastic gradient descent to optimize the algorithm for the back propagation\n",
    "  #lr is the learning rate which is used\n",
    "  optimizer = torch.optim.SGD(ann.parameters(),lr=0.01) \n",
    "\n",
    "  return ann , loss_function , optimizer"
   ]
  },
  {
   "cell_type": "markdown",
   "metadata": {
    "id": "2dAXVj_hbeR9"
   },
   "source": [
    "#### 6. Trainig the model"
   ]
  },
  {
   "cell_type": "code",
   "execution_count": 8,
   "metadata": {
    "executionInfo": {
     "elapsed": 13,
     "status": "ok",
     "timestamp": 1671642730493,
     "user": {
      "displayName": "Minas 0",
      "userId": "05439225057304152856"
     },
     "user_tz": 0
    },
    "id": "ReiF7grOO-Vj"
   },
   "outputs": [],
   "source": [
    "# train the model\n",
    "def train(ann , loss_function ,optimizer , train_target):\n",
    "  epochs = 1800 #Amount of the models will be trained\n",
    "\n",
    "  loss_arr = torch.empty(epochs) #Makes an empty array in pytorch, to store the losses\n",
    "\n",
    "  for i in range(epochs):\n",
    "\n",
    "    # forward propagation\n",
    "    y_hat = ann(train_data) #The models prediction\n",
    "\n",
    "    #Work out the loss\n",
    "    train_target = train_target.to(torch.long) #The loss function takes in a long so this just converts it\n",
    "    loss = loss_function(y_hat ,train_target) #Gets the loss function for Y hat \n",
    "    loss_arr[i] = loss \n",
    "\n",
    "    #Backwards propagtion\n",
    "    optimizer.zero_grad() #This resets the gradients of the model's parameters to zero.\n",
    "    loss.backward() #This calculates the loss of the gradients and stores them in the .grad\n",
    "    optimizer.step() #Updates the paramters\n",
    "  \n",
    "  return train_target, loss_arr"
   ]
  },
  {
   "cell_type": "markdown",
   "metadata": {
    "id": "WHO1pl3NP5-X"
   },
   "source": [
    "#### 7.Result\n",
    "\n"
   ]
  },
  {
   "cell_type": "code",
   "execution_count": 9,
   "metadata": {
    "executionInfo": {
     "elapsed": 13,
     "status": "ok",
     "timestamp": 1671642730493,
     "user": {
      "displayName": "Minas 0",
      "userId": "05439225057304152856"
     },
     "user_tz": 0
    },
    "id": "EbqRexFUO0TM"
   },
   "outputs": [],
   "source": [
    "def result_function(ann , loss_function ,optimizer):\n",
    "  results = ann(test_data) #Runs the test dataset  \n",
    "  wrong = [] \n",
    "  right = [] \n",
    "\n",
    "  #Because we return 3 values from the model, we want to get the largest value \n",
    "  #axis 1 is used to say the largest value in that row  \n",
    "  results_target = torch.argmax(results,axis=1) \n",
    "\n",
    "  for i in range(len(results_target)):\n",
    "    if(results_target[i] == test_target[i]):\n",
    "      right.append(results_target[i]) \n",
    "    else: \n",
    "      wrong.append(results_target[i])\n",
    "\n",
    "\n",
    "  acc = len(right)/len(test_target)\n",
    "\n",
    "  return acc\n",
    "  "
   ]
  },
  {
   "cell_type": "markdown",
   "metadata": {
    "id": "nQwrcZ-RQCJE"
   },
   "source": [
    "#### 8.Run everything"
   ]
  },
  {
   "cell_type": "code",
   "execution_count": 10,
   "metadata": {
    "colab": {
     "base_uri": "https://localhost:8080/"
    },
    "executionInfo": {
     "elapsed": 2038,
     "status": "ok",
     "timestamp": 1671642732518,
     "user": {
      "displayName": "Minas 0",
      "userId": "05439225057304152856"
     },
     "user_tz": 0
    },
    "id": "oeRPRw_IPQ07",
    "outputId": "5cd873be-a63a-41e2-bfad-1dc83c89b07b"
   },
   "outputs": [
    {
     "name": "stdout",
     "output_type": "stream",
     "text": [
      "The accuracy of this ANN is 100%\n"
     ]
    }
   ],
   "source": [
    "ann , loss_function ,optimizer = makeANN(29, 37) #Got the number of units by running the modified code at the buttom and chose the units with the best acc\n",
    "train_target , loss_arr =  train(ann , loss_function ,optimizer ,train_target)\n",
    "acc  = result_function(ann , loss_function ,optimizer)\n",
    "\n",
    "print(f\"The accuracy of this ANN is {round(acc * 100)}%\")\n"
   ]
  },
  {
   "cell_type": "markdown",
   "metadata": {
    "id": "okTrS4PyQKLN"
   },
   "source": [
    "#### 9.Plot the loss on the graph"
   ]
  },
  {
   "cell_type": "code",
   "execution_count": 11,
   "metadata": {
    "colab": {
     "base_uri": "https://localhost:8080/",
     "height": 295
    },
    "executionInfo": {
     "elapsed": 311,
     "status": "ok",
     "timestamp": 1671642732820,
     "user": {
      "displayName": "Minas 0",
      "userId": "05439225057304152856"
     },
     "user_tz": 0
    },
    "id": "jGmQxXH5PfFC",
    "outputId": "24a71ad9-5ef5-431e-9d4d-b1060a91443b"
   },
   "outputs": [
    {
     "data": {
      "image/png": "[encoded data removed]",
      "text/plain": [
       "<Figure size 640x480 with 1 Axes>"
      ]
     },
     "metadata": {},
     "output_type": "display_data"
    }
   ],
   "source": [
    "plt.plot(loss_arr.detach()) #This plots the loss in a graph. detach is used to separate the gradent data from the tensor\n",
    "plt.title('This graph show the loss of each training') \n",
    "plt.xlabel(\"Epochs\")\n",
    "plt.ylabel(\"Loss\")\n",
    "plt.show() #To show the graph"
   ]
  },
  {
   "cell_type": "code",
   "execution_count": 12,
   "metadata": {
    "colab": {
     "base_uri": "https://localhost:8080/"
    },
    "executionInfo": {
     "elapsed": 195893,
     "status": "ok",
     "timestamp": 1671643151225,
     "user": {
      "displayName": "Minas 0",
      "userId": "05439225057304152856"
     },
     "user_tz": 0
    },
    "id": "a9pfdMrbmM3D",
    "outputId": "f4236015-1ad0-4073-cc71-9499a4004ca6"
   },
   "outputs": [
    {
     "name": "stdout",
     "output_type": "stream",
     "text": [
      "The total average accuracy of this ANN is 98%\n"
     ]
    }
   ],
   "source": [
    "totalAcc = 0\n",
    "\n",
    "for i in range(100):\n",
    "  ann , loss_function ,optimizer = makeANN(29, 37) \n",
    "  train_target , loss_arr =  train(ann , loss_function ,optimizer ,train_target)\n",
    "  acc  = result_function(ann , loss_function ,optimizer)\n",
    "  totalAcc += acc\n",
    "  \n",
    "\n",
    "\n",
    "totalAcc = totalAcc/100 \n",
    "print(f\"The total average accuracy of this ANN is {round(totalAcc * 100)}%\")"
   ]
  },
  {
   "cell_type": "markdown",
   "metadata": {
    "id": "Sp_ds0c5bpvQ"
   },
   "source": [
    "#### Modified result function to find the number of units that will be the best"
   ]
  },
  {
   "cell_type": "code",
   "execution_count": 13,
   "metadata": {
    "executionInfo": {
     "elapsed": 7,
     "status": "ok",
     "timestamp": 1671642929273,
     "user": {
      "displayName": "Minas 0",
      "userId": "05439225057304152856"
     },
     "user_tz": 0
    },
    "id": "14fSISzXXQ54"
   },
   "outputs": [],
   "source": [
    "# avg= 0 \n",
    "# def res(ann , loss_function ,optimizer, avg):\n",
    "#   for i in range(100):\n",
    "#     results = ann(test_data) #Runs the test dataset  \n",
    "\n",
    "#     wrong = [] \n",
    "#     right = [] \n",
    "\n",
    "#     #Because we return 3 values from the model, we want to get the largest value \n",
    "#     #axis 1 is used to say the largest value in that row  \n",
    "#     results_target = torch.argmax(results,axis=1) \n",
    "\n",
    "#     for i in range(len(results_target)):\n",
    "#       if(results_target[i] == test_target[i]):\n",
    "#         right.append(results_target[i]) \n",
    "#       else: \n",
    "#         wrong.append(results_target[i])\n",
    "\n",
    "#     avg += len(right)/len(test_target)\n",
    "\n",
    "#   avg = avg / 100\n",
    "\n",
    "\n",
    "\n",
    "#   # if avg >= 0.95:\n",
    "#   #   print(f\" The accuracy of this ANN is {round(avg * 100)}% , {ann}\")\n",
    " "
   ]
  },
  {
   "cell_type": "markdown",
   "metadata": {
    "id": "Gud0nrApRKuC"
   },
   "source": [
    "#### Modified Run everything\n"
   ]
  },
  {
   "cell_type": "code",
   "execution_count": 14,
   "metadata": {
    "executionInfo": {
     "elapsed": 6,
     "status": "ok",
     "timestamp": 1671642929274,
     "user": {
      "displayName": "Minas 0",
      "userId": "05439225057304152856"
     },
     "user_tz": 0
    },
    "id": "AOXXYR9ta5HK"
   },
   "outputs": [],
   "source": [
    "# nums1 = list(range(1, 101))\n",
    "# nums2 = list(range(1, 101))\n",
    "\n",
    "\n",
    "# for i in range(len(nums1)):\n",
    "#   for j in range(len(nums2)):\n",
    "#     ann , loss_function ,optimizer = makeANN(nums1[i] , nums2[j])\n",
    "#     train(ann , loss_function ,optimizer ,train_target)\n",
    "#     result  = res(ann , loss_function ,optimizer, avg)\n",
    "  "
   ]
  }
 ],
 "metadata": {
  "colab": {
   "authorship_tag": "ABX9TyOyTgSyN/MaMSncKaAHziWC",
   "provenance": [
    {
     "file_id": "1tfTuWEF3l9WZk2Ocw7Yxj8IIjnVHTO2P",
     "timestamp": 1671199689300
    },
    {
     "file_id": "1IXAHHbBtGgwpcJ63HbRZSOVt4PTBT8cg",
     "timestamp": 1671196487919
    }
   ]
  },
  "kernelspec": {
   "display_name": "Python 3 (ipykernel)",
   "language": "python",
   "name": "python3"
  },
  "language_info": {
   "codemirror_mode": {
    "name": "ipython",
    "version": 3
   },
   "file_extension": ".py",
   "mimetype": "text/x-python",
   "name": "python",
   "nbconvert_exporter": "python",
   "pygments_lexer": "ipython3",
   "version": "3.9.13"
  }
 },
 "nbformat": 4,
 "nbformat_minor": 1
}
